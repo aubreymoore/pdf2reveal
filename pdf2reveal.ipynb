{
 "cells": [
  {
   "cell_type": "markdown",
   "metadata": {},
   "source": [
    "# pdf2reveal.ipynb\n",
    "\n",
    "2024-09-05 Created by Aubrey Moore (aubreymoore2013@gmail.com) \n",
    "\n",
    "This notebook converts a pdf presentation into a reveal.js presentation.\n",
    "Can be very useful if you want to use slides created using LibreOffice Impress or PowerPoint and later decide to use some of them in a reveal.js presentation. Simply convert to PDF. Then run this code.\n",
    "\n",
    "Based on the methods documented in https://harshp.com/dev/webdev/pdf2slideshow.\n",
    "\n",
    "After running all cells, move {OUTPUTPATH} into the reveal.js presentation directory\n",
    "and copy text from {OUTPUTPATH}/html_slides.txt into the presentation's HTML file."
   ]
  },
  {
   "cell_type": "code",
   "execution_count": 1,
   "metadata": {},
   "outputs": [],
   "source": [
    "import os\n",
    "import glob"
   ]
  },
  {
   "cell_type": "code",
   "execution_count": 2,
   "metadata": {},
   "outputs": [],
   "source": [
    "PDFFILE = 'CRB-Biology.pdf'   # Path to PDF file to be converted\n",
    "OUTPUTPATH = './output'       # Path to output file directory"
   ]
  },
  {
   "cell_type": "code",
   "execution_count": 3,
   "metadata": {},
   "outputs": [],
   "source": [
    "# Make sure output directory exists\n",
    "os.makedirs(OUTPUTPATH, exist_ok=True)"
   ]
  },
  {
   "cell_type": "code",
   "execution_count": 4,
   "metadata": {},
   "outputs": [
    {
     "data": {
      "text/plain": [
       "0"
      ]
     },
     "execution_count": 4,
     "metadata": {},
     "output_type": "execute_result"
    }
   ],
   "source": [
    "# Break PDF presentation into a PNG for each slide\n",
    "os.system(f'pdftoppm {PDFFILE} {OUTPUTPATH}/slide -\"png\"')"
   ]
  },
  {
   "cell_type": "code",
   "execution_count": 5,
   "metadata": {},
   "outputs": [],
   "source": [
    "# Reduce mmory needed for each PNG; each file is overwritten\n",
    "for slide in sorted(glob.iglob(f'{OUTPUTPATH}/slide-*.png')):\n",
    "    os.system(f'pngquant {slide} -s 1 -f -o {slide}')"
   ]
  },
  {
   "cell_type": "code",
   "execution_count": 6,
   "metadata": {},
   "outputs": [],
   "source": [
    "# Create an HTML code segment for the slides and save it in the output directory\n",
    "s = ''\n",
    "for slide in sorted(glob.iglob(f'{OUTPUTPATH}/slide-*.png')):\n",
    "    s += f'<section>\\n<img src=\"{slide}\">\\n</section>\\n\\n'\n",
    "with open(f'{OUTPUTPATH}/html_slides.txt', 'w') as f:\n",
    "    f.write(s)"
   ]
  }
 ],
 "metadata": {
  "kernelspec": {
   "display_name": "base_kernel",
   "language": "python",
   "name": "base_kernel"
  },
  "language_info": {
   "codemirror_mode": {
    "name": "ipython",
    "version": 3
   },
   "file_extension": ".py",
   "mimetype": "text/x-python",
   "name": "python",
   "nbconvert_exporter": "python",
   "pygments_lexer": "ipython3",
   "version": "3.9.12"
  }
 },
 "nbformat": 4,
 "nbformat_minor": 2
}
